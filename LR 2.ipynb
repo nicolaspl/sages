{
 "cells": [
  {
   "cell_type": "code",
   "execution_count": null,
   "metadata": {},
   "outputs": [],
   "source": [
    "import pandas as pd\n",
    "import numpy as np\n",
    "import matplotlib.pyplot as plt\n",
    "\n",
    "%matplotlib inline"
   ]
  },
  {
   "cell_type": "markdown",
   "metadata": {},
   "source": [
    "# Zapoznajemy się z danymi"
   ]
  },
  {
   "cell_type": "code",
   "execution_count": null,
   "metadata": {},
   "outputs": [],
   "source": [
    "from sklearn.datasets import load_boston\n",
    "boston_dataset = load_boston()"
   ]
  },
  {
   "cell_type": "code",
   "execution_count": null,
   "metadata": {},
   "outputs": [],
   "source": [
    "type(boston_dataset)"
   ]
  },
  {
   "cell_type": "code",
   "execution_count": null,
   "metadata": {},
   "outputs": [],
   "source": [
    "boston_dataset.keys()"
   ]
  },
  {
   "cell_type": "code",
   "execution_count": null,
   "metadata": {},
   "outputs": [],
   "source": [
    "print(boston_dataset.DESCR)"
   ]
  },
  {
   "cell_type": "code",
   "execution_count": null,
   "metadata": {},
   "outputs": [],
   "source": [
    "boston = pd.DataFrame(boston_dataset.data, columns=boston_dataset.feature_names)\n",
    "boston=\n",
    "boston.head()"
   ]
  },
  {
   "cell_type": "code",
   "execution_count": null,
   "metadata": {},
   "outputs": [],
   "source": [
    "plt.hist(boston_dataset.target, normed=True, bins=30)\n",
    "plt.ylabel('Probability');"
   ]
  },
  {
   "cell_type": "code",
   "execution_count": null,
   "metadata": {},
   "outputs": [],
   "source": [
    "for var in boston.columns:\n",
    "    plt.scatter(boston_dataset.target,boston[var])\n",
    "    plt.xlabel(\"Target\")\n",
    "    plt.ylabel(var)\n",
    "    plt.show()"
   ]
  },
  {
   "cell_type": "code",
   "execution_count": null,
   "metadata": {},
   "outputs": [],
   "source": [
    "# raczej o czystych, liniowych zależnościach nie ma mowy, ale zobaczmy co da się z tym zrobić..."
   ]
  },
  {
   "cell_type": "markdown",
   "metadata": {},
   "source": [
    "# Dopasujmy pierwszy model, który będzie służył nam później za benchmark"
   ]
  },
  {
   "cell_type": "code",
   "execution_count": null,
   "metadata": {},
   "outputs": [],
   "source": [
    "from sklearn.pipeline import make_pipeline\n",
    "from sklearn.pipeline import Pipeline\n",
    "from sklearn.preprocessing import PolynomialFeatures\n",
    "from sklearn.linear_model import LinearRegression"
   ]
  },
  {
   "cell_type": "code",
   "execution_count": null,
   "metadata": {},
   "outputs": [],
   "source": [
    "model = LinearRegression()\n",
    "model.fit(boston,boston_dataset.target)\n",
    "\n",
    "prediction = model.predict(boston)"
   ]
  },
  {
   "cell_type": "code",
   "execution_count": null,
   "metadata": {},
   "outputs": [],
   "source": [
    "from sklearn.metrics import mean_squared_error\n",
    "from sklearn.metrics import  mean_absolute_error\n",
    "from sklearn.metrics import r2_score\n",
    "\n",
    "def assess_model(prediction, target):\n",
    "    rmse=np.sqrt(mean_squared_error(target, prediction))\n",
    "    mae=mean_absolute_error(target, prediction)\n",
    "    r2=r2_score(target, prediction)\n",
    "\n",
    "    plt.scatter(target,prediction)\n",
    "    plt.xlabel(\"Target\")\n",
    "    plt.ylabel(\"Prediction\")\n",
    "    plt.show()\n",
    "    \n",
    "    return {'RMSE: ':rmse,'MAE: ':mae,'R^2: ':r2}"
   ]
  },
  {
   "cell_type": "code",
   "execution_count": null,
   "metadata": {},
   "outputs": [],
   "source": [
    "print(assess_model(prediction,boston_dataset.target))"
   ]
  },
  {
   "cell_type": "markdown",
   "metadata": {},
   "source": [
    "# Spróbujmy to przebić:"
   ]
  },
  {
   "cell_type": "code",
   "execution_count": null,
   "metadata": {},
   "outputs": [],
   "source": [
    "# jakie techniki możemy wykorzystać:\n",
    "- usunięcie outlierów \n",
    "- normalizacja rozkładów predyktorów ((PowerTransformer) \n",
    "- inne przekształcenia w poszukiwaniu zmiennych nieliniowych: \n",
    "                                      - sklearn.compose.TransformedTargetRegressor, jeśli chcemy transformować target \n",
    "                                      - PolynomialFeatures jeśli chcemy szukać wielomianów \n",
    "                                      - inne transformacje (np.log(), np.exp()) \n",
    "- model regularyzowany \n",
    "- optymalizacja hiperparamtrów (regularyzacji, wielomianow) "
   ]
  },
  {
   "cell_type": "markdown",
   "metadata": {},
   "source": [
    "Ćwiczenie 1\n",
    "\n",
    "Proszę stworzyć możliwie dobrze dopasowany model\n",
    "\n",
    "hint: proszę użyć funkcji make_pipeline lub Pipeline"
   ]
  },
  {
   "cell_type": "code",
   "execution_count": null,
   "metadata": {},
   "outputs": [],
   "source": []
  },
  {
   "cell_type": "markdown",
   "metadata": {},
   "source": [
    "# Dopasowanie dopasowaniem, ale co z właściwościami predykcyjnymi?"
   ]
  },
  {
   "cell_type": "code",
   "execution_count": null,
   "metadata": {},
   "outputs": [],
   "source": [
    "from sklearn.model_selection import train_test_split"
   ]
  },
  {
   "cell_type": "code",
   "execution_count": null,
   "metadata": {},
   "outputs": [],
   "source": [
    "X_train, X_test, y_train, y_test = train_test_split(boston,boston_dataset.target,test_size=100)"
   ]
  },
  {
   "cell_type": "code",
   "execution_count": null,
   "metadata": {},
   "outputs": [],
   "source": [
    "model_poly = Pipeline([('polyfeatures',PolynomialFeatures(3,include_bias=False)),('lm',LinearRegression())])\n",
    "model_poly.fit(X_train, y_train)\n",
    "prediction_poly_test=model_poly.predict(X_test)"
   ]
  },
  {
   "cell_type": "code",
   "execution_count": null,
   "metadata": {},
   "outputs": [],
   "source": [
    "assess_model(prediction_poly_test,y_test)"
   ]
  },
  {
   "cell_type": "code",
   "execution_count": null,
   "metadata": {},
   "outputs": [],
   "source": [
    "# niestety to tylko overfit :(\n",
    "# z czego wynika nagle tak duży rozrzut predykcji na skali?"
   ]
  },
  {
   "cell_type": "code",
   "execution_count": null,
   "metadata": {},
   "outputs": [],
   "source": [
    "# --> LR Zoom-in"
   ]
  },
  {
   "cell_type": "markdown",
   "metadata": {},
   "source": [
    "Ćwiczenie 3: zastosujmy to do danych rzeczywistych\n",
    "\n",
    "proszę zbudować model wykorzystujący wielomiany do 3 stopnia, ale z wykorzystaniem regresji grzbietowej\n",
    "\n",
    "poeksperymentujmy ręcznie z parametrem lambda- poszukajmy najlepszego"
   ]
  },
  {
   "cell_type": "code",
   "execution_count": null,
   "metadata": {},
   "outputs": [],
   "source": [
    "from sklearn.linear_model import Ridge"
   ]
  },
  {
   "cell_type": "code",
   "execution_count": null,
   "metadata": {},
   "outputs": [],
   "source": []
  },
  {
   "cell_type": "markdown",
   "metadata": {},
   "source": [
    "# Co się stało z betami?"
   ]
  },
  {
   "cell_type": "code",
   "execution_count": null,
   "metadata": {},
   "outputs": [],
   "source": [
    "def diagnose_betas(betas):\n",
    "    plt.hist(betas)\n",
    "    result={'Count of betas: ':len(betas),'Mean: ':np.mean(betas),'Standard deviation: ':np.std(betas)}\n",
    "    return result"
   ]
  },
  {
   "cell_type": "code",
   "execution_count": null,
   "metadata": {},
   "outputs": [],
   "source": [
    "diagnose_betas(model_poly.named_steps['lm'].coef_)"
   ]
  },
  {
   "cell_type": "code",
   "execution_count": null,
   "metadata": {},
   "outputs": [],
   "source": [
    "diagnose_betas(model_ridge.named_steps['ridge'].coef_)"
   ]
  },
  {
   "cell_type": "code",
   "execution_count": null,
   "metadata": {},
   "outputs": [],
   "source": [
    "# wnioski:\n",
    "# mamy mniejsze bety = mniejszą wariancję modelu, ale co z tego, skoro on wcale nie jest lepszy..."
   ]
  },
  {
   "cell_type": "code",
   "execution_count": null,
   "metadata": {},
   "outputs": [],
   "source": [
    "# --> prezentacja: oglądamy funkcję straty"
   ]
  },
  {
   "cell_type": "markdown",
   "metadata": {},
   "source": [
    "Ćwiczenie 4:\n",
    "    proszę zbudować model regresji grzbietowej w oparciu o wystandaryzowane zmienne"
   ]
  },
  {
   "cell_type": "code",
   "execution_count": null,
   "metadata": {},
   "outputs": [],
   "source": [
    "from sklearn.preprocessing import StandardScaler"
   ]
  },
  {
   "cell_type": "code",
   "execution_count": null,
   "metadata": {},
   "outputs": [],
   "source": []
  },
  {
   "cell_type": "code",
   "execution_count": null,
   "metadata": {},
   "outputs": [],
   "source": [
    "# udało się poprawić model (być może)"
   ]
  },
  {
   "cell_type": "markdown",
   "metadata": {},
   "source": [
    "# To lecimy z Lasso"
   ]
  },
  {
   "cell_type": "code",
   "execution_count": null,
   "metadata": {},
   "outputs": [],
   "source": [
    "from sklearn.linear_model import Lasso"
   ]
  },
  {
   "cell_type": "markdown",
   "metadata": {},
   "source": [
    "Ćwiczenie 5:\n",
    "    proszę analogiczny model, tylko wykorzystując Lasso zamiast Ridge"
   ]
  },
  {
   "cell_type": "code",
   "execution_count": null,
   "metadata": {},
   "outputs": [],
   "source": []
  },
  {
   "cell_type": "code",
   "execution_count": null,
   "metadata": {},
   "outputs": [],
   "source": []
  },
  {
   "cell_type": "markdown",
   "metadata": {},
   "source": [
    "# Elastic net\n",
    "\n",
    "proszę zbudować możliwie dobrze dopasowany model wykorztująć regularyzację ElasticNet z parametrami alpha i l1_ratio"
   ]
  },
  {
   "cell_type": "code",
   "execution_count": null,
   "metadata": {},
   "outputs": [],
   "source": [
    "from sklearn.linear_model import ElasticNet\n"
   ]
  },
  {
   "cell_type": "markdown",
   "metadata": {},
   "source": [
    "# Grid search\n",
    "Proszę zbudować model regresji grzbietowej wykorzytujący optymalna kombinację stopnia wielomianu i współczynnika alfa\n",
    "Proszę uruchomić funkcję assess_model na tym modelu"
   ]
  },
  {
   "cell_type": "code",
   "execution_count": null,
   "metadata": {},
   "outputs": [],
   "source": [
    "from sklearn.model_selection import GridSearchCV\n"
   ]
  },
  {
   "cell_type": "code",
   "execution_count": null,
   "metadata": {},
   "outputs": [],
   "source": []
  },
  {
   "cell_type": "code",
   "execution_count": null,
   "metadata": {},
   "outputs": [],
   "source": []
  },
  {
   "cell_type": "code",
   "execution_count": null,
   "metadata": {},
   "outputs": [],
   "source": []
  },
  {
   "cell_type": "code",
   "execution_count": null,
   "metadata": {},
   "outputs": [],
   "source": []
  },
  {
   "cell_type": "markdown",
   "metadata": {},
   "source": [
    "# Raportowanie modelu\n",
    "\n",
    "    Raport powinien zawierać następujące informacje:\n",
    "    \n",
    "    - zmienne, które weszły do modelu (ostatecznie obiekt powinien być możliwie prosty!)\n",
    "    - wykresy zmienna oczekiwana - zmienna obserwowana\n",
    "    - diagnostyka reszt\n",
    "    - statystyki właściwości predykcyjnych (np. R^2, MAE, RMSE) w podziale na zbiór treningowy i testowy: estetyczna tabela\n",
    "    - \"historię optymalizacji\"- jakie metody były stosowane, które \n",
    "    \n",
    "    \n",
    "    Ponad to:\n",
    "    - zwykle w biznesie model budowany jest na podzbiorze obserwacji- należy podać ograniczenia i uzasadnić ich wybór\n",
    "    - zastosowanie i ograniczenia (np. model nie jest przeznaczony do wyceny nieruchomości luksusowych)"
   ]
  }
 ],
 "metadata": {
  "kernelspec": {
   "display_name": "Python 3",
   "language": "python",
   "name": "python3"
  },
  "language_info": {
   "codemirror_mode": {
    "name": "ipython",
    "version": 3
   },
   "file_extension": ".py",
   "mimetype": "text/x-python",
   "name": "python",
   "nbconvert_exporter": "python",
   "pygments_lexer": "ipython3",
   "version": "3.7.4"
  }
 },
 "nbformat": 4,
 "nbformat_minor": 2
}
