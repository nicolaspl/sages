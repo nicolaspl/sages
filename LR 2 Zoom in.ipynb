{
 "cells": [
  {
   "cell_type": "code",
   "execution_count": 21,
   "metadata": {
    "collapsed": true
   },
   "outputs": [],
   "source": [
    "import pandas as pd\n",
    "import numpy as np\n",
    "import matplotlib.pyplot as plt\n",
    "from sklearn.pipeline import make_pipeline\n",
    "from sklearn.pipeline import Pipeline\n",
    "from sklearn.preprocessing import PolynomialFeatures\n",
    "from sklearn.linear_model import LinearRegression\n",
    "from sklearn.linear_model import Ridge\n",
    "\n",
    "%matplotlib inline"
   ]
  },
  {
   "cell_type": "code",
   "execution_count": 22,
   "metadata": {
    "collapsed": true
   },
   "outputs": [],
   "source": [
    "true_fun = lambda X: np.cos(1.5 * np.pi * X)\n",
    "n_samples=20\n",
    "x = np.sort(np.random.rand(n_samples))\n",
    "y = true_fun(x) + np.random.randn(n_samples) * 0.1\n",
    "x=np.vstack(x)"
   ]
  },
  {
   "cell_type": "code",
   "execution_count": 33,
   "metadata": {},
   "outputs": [
    {
     "name": "stdout",
     "output_type": "stream",
     "text": [
      "LR degree 1\n"
     ]
    },
    {
     "data": {
      "image/png": "[encoded data removed]",
      "text/plain": [
       "<matplotlib.figure.Figure at 0x1903404b4e0>"
      ]
     },
     "metadata": {},
     "output_type": "display_data"
    }
   ],
   "source": [
    "# prepare models\n",
    "models = []\n",
    "predicts = []\n",
    "names=[]\n",
    "models.append(('LR degree 1', make_pipeline(PolynomialFeatures(1), LinearRegression()) ))\n",
    "#models.append(('LR degree 2', make_pipeline(PolynomialFeatures(2), LinearRegression()) ))\n",
    "#models.append(('LR degree 20', make_pipeline(PolynomialFeatures(20), LinearRegression()) ))\n",
    "\n",
    "x_plot = np.vstack(np.linspace(-3, 3, 1000))\n",
    "for name, model in models:\n",
    "    print(name)\n",
    "    model.fit(x, y)\n",
    "    predicts.append(model.predict(x_plot))\n",
    "    names.append(name)\n",
    "    \n",
    "x_plot = np.vstack(np.linspace(-3, 3, 1000))\n",
    "plt.plot(x, y, 'ok');\n",
    "for i in range(len(models)):\n",
    "    #print(i)\n",
    "    plt.plot(x_plot, predicts[i],linewidth=3,label=names[i])\n",
    "    plt.xlim((0, 1))\n",
    "    plt.ylim((-2, 2))\n",
    "plt.legend()    \n",
    "plt.show()"
   ]
  },
  {
   "cell_type": "code",
   "execution_count": null,
   "metadata": {
    "collapsed": true
   },
   "outputs": [],
   "source": [
    "# Z tego, że przeuczyliśmy model- nasza funkcja jest doskonale dopasowana do punktów, \n",
    "# ale w ogóle nie dbamy o to, co dzieje się z nią w obszarze poza naszymi danymi, \n",
    "# czyli jak dobrze będzie dopasowana do innej próbki, pochodzącej z tego samego procesu generującego dane"
   ]
  },
  {
   "cell_type": "code",
   "execution_count": 1,
   "metadata": {
    "collapsed": true
   },
   "outputs": [],
   "source": [
    "# prezentacja --> po co nam regularyzacja"
   ]
  },
  {
   "cell_type": "markdown",
   "metadata": {},
   "source": [
    "Ćwiczenie 2\n",
    "\n",
    "Proszę wykonać\n",
    "\n",
    "    regresję dla wielomianów o stopniu 20\n",
    "    regresję (Ridge Regression) dla wielomianów o stopniu 20\n",
    "    regresję (Ridge Regression) dla wielomianów o stopniu 20 i $\\alpha = 1 $\n",
    "    regresję (Ridge Regression) dla wielomianów o stopniu 20 i $\\alpha = 100 $\n",
    "    regresję (Ridge Regression) dla wielomianów o stopniu 20 i $\\alpha = 0.01 $\n",
    "   \n",
    "Proszę użyć obiektu Ridge()"
   ]
  },
  {
   "cell_type": "code",
   "execution_count": null,
   "metadata": {},
   "outputs": [],
   "source": []
  }
 ],
 "metadata": {
  "kernelspec": {
   "display_name": "Python 3",
   "language": "python",
   "name": "python3"
  },
  "language_info": {
   "codemirror_mode": {
    "name": "ipython",
    "version": 3
   },
   "file_extension": ".py",
   "mimetype": "text/x-python",
   "name": "python",
   "nbconvert_exporter": "python",
   "pygments_lexer": "ipython3",
   "version": "3.7.4"
  }
 },
 "nbformat": 4,
 "nbformat_minor": 2
}
